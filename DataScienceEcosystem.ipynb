{
  "cells": [
    {
      "cell_type": "markdown",
      "metadata": {},
      "source": [
        "Exercise 2: Create markdown cell with title of the notebook"
      ]
    },
    {
      "cell_type": "markdown",
      "metadata": {},
      "source": [
        "# Data Science Tools and Ecosystem"
      ]
    },
    {
      "cell_type": "markdown",
      "metadata": {},
      "source": [
        "Exercise 3 - Create a markdown cell for an introduction"
      ]
    },
    {
      "cell_type": "markdown",
      "metadata": {},
      "source": [
        "In this notebook, Data Science Tools and Ecosystem are summarized."
      ]
    },
    {
      "cell_type": "markdown",
      "metadata": {},
      "source": [
        "Exercise 10 - Insert a markdown cell to list Objectives"
      ]
    },
    {
      "cell_type": "markdown",
      "metadata": {},
      "source": [
        "**Objectives:**\n",
        "\n",
        "- List popular languages for Data Science  \n",
        "- Identify commonly used libraries in Data Science  \n",
        "- Create tables to organize Data Science tools  \n",
        "- Demonstrate basic arithmetic expressions in Python  \n",
        "- Convert time values from minutes to hours  "
      ]
    },
    {
      "cell_type": "markdown",
      "metadata": {},
      "source": [
        "Exercise 4 - Create a markdown cell to list data science languages"
      ]
    },
    {
      "cell_type": "markdown",
      "metadata": {},
      "source": [
        "Some of the popular languages that Data Scientists use are:\n",
        "\n",
        "1. Python  \n",
        "2. R  \n",
        "3. SQL  \n",
        "4. Julia  \n",
        "5. Scala"
      ]
    },
    {
      "cell_type": "markdown",
      "metadata": {},
      "source": [
        "Exercise 5 - Create a markdown cell to list data science libraries"
      ]
    },
    {
      "cell_type": "markdown",
      "metadata": {},
      "source": [
        "Some of the commonly used libraries used by Data Scientists include:\n",
        "\n",
        "1. Pandas  \n",
        "2. NumPy  \n",
        "3. Matplotlib  \n",
        "4. Scikit-learn  \n",
        "5. TensorFlow  \n",
        "6. PyTorch  "
      ]
    },
    {
      "cell_type": "markdown",
      "metadata": {},
      "source": [
        "Exercise 6 - Create a markdown cell with a table of Data Science tools"
      ]
    },
    {
      "cell_type": "markdown",
      "metadata": {},
      "source": [
        "| Data Science Tools      |\n",
        "|-------------------------|\n",
        "| Jupyter Notebook        |\n",
        "| RStudio                 |\n",
        "| Apache Zeppelin         |\n"
      ]
    },
    {
      "cell_type": "markdown",
      "metadata": {},
      "source": [
        "Exercise 7 - Create a markdown cell introducing arithmetic expression examples"
      ]
    },
    {
      "cell_type": "markdown",
      "metadata": {},
      "source": [
        "### Below are a few examples of evaluating arithmetic expressions in Python."
      ]
    },
    {
      "cell_type": "markdown",
      "metadata": {},
      "source": [
        "Exercise 8 - Create a code cell to multiply and add numbers"
      ]
    },
    {
      "cell_type": "code",
      "execution_count": 2,
      "metadata": {
        "trusted": true
      },
      "outputs": [
        {
          "data": {
            "text/plain": [
              "17"
            ]
          },
          "execution_count": 2,
          "metadata": {},
          "output_type": "execute_result"
        }
      ],
      "source": [
        "# This is a simple arithmetic expression to multiply then add integers\n",
        "(3 * 4) + 5"
      ]
    },
    {
      "cell_type": "markdown",
      "metadata": {},
      "source": [
        "Exercise 9 - Create a code cell to convert minutes to hours"
      ]
    },
    {
      "cell_type": "code",
      "execution_count": 3,
      "metadata": {
        "trusted": true
      },
      "outputs": [
        {
          "data": {
            "text/plain": [
              "3.3333333333333335"
            ]
          },
          "execution_count": 3,
          "metadata": {},
          "output_type": "execute_result"
        }
      ],
      "source": [
        "# This will convert 200 minutes to hours by dividing by 60\n",
        "200 / 60"
      ]
    },
    {
      "cell_type": "markdown",
      "metadata": {},
      "source": [
        "Exercise 11 - Create a markdown cell to indicate the Author's name"
      ]
    },
    {
      "cell_type": "markdown",
      "metadata": {},
      "source": [
        "## Author\n",
        "\n",
        "Harshil Chunilal Chaudhari"
      ]
    },
    {
      "cell_type": "code",
      "execution_count": null,
      "metadata": {
        "trusted": true
      },
      "outputs": [],
      "source": []
    }
  ],
  "metadata": {
    "kernelspec": {
      "display_name": "Python (Pyodide)",
      "language": "python",
      "name": "python"
    },
    "language_info": {
      "codemirror_mode": {
        "name": "python",
        "version": 3
      },
      "file_extension": ".py",
      "mimetype": "text/x-python",
      "name": "python",
      "nbconvert_exporter": "python",
      "pygments_lexer": "ipython3",
      "version": "3.8"
    }
  },
  "nbformat": 4,
  "nbformat_minor": 4
}
